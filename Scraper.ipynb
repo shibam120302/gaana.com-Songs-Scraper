{
 "cells": [
  {
   "cell_type": "code",
   "execution_count": 177,
   "id": "39dc1594",
   "metadata": {},
   "outputs": [],
   "source": [
    "import time\n",
    "import numpy as np\n",
    "import pandas as pd\n",
    "from tqdm import tqdm\n",
    "\n",
    "from bs4 import BeautifulSoup\n",
    "from selenium import webdriver"
   ]
  },
  {
   "cell_type": "code",
   "execution_count": 178,
   "id": "12cb9b4e",
   "metadata": {
    "scrolled": true
   },
   "outputs": [
    {
     "name": "stderr",
     "output_type": "stream",
     "text": [
      "C:\\Users\\GFG19250\\AppData\\Local\\Temp\\ipykernel_8532\\3295111861.py:1: DeprecationWarning: executable_path has been deprecated, please pass in a Service object\n",
      "  driver = webdriver.Chrome('chromedriver.exe')\n",
      "100%|████████████████████████████████████████████████████████████████████████████████| 600/600 [01:18<00:00,  7.60it/s]\n"
     ]
    }
   ],
   "source": [
    "driver = webdriver.Chrome('chromedriver.exe')\n",
    "\n",
    "driver.get('https://gaana.com/old-songs/odia')\n",
    "\n",
    "for i in tqdm(range(1, 60000, 100)):\n",
    "\n",
    "    driver.execute_script(\"window.scrollTo(0, \" + str(i) + \")\")\n",
    "    time.sleep(.1)"
   ]
  },
  {
   "cell_type": "code",
   "execution_count": 171,
   "id": "ff1ccf65",
   "metadata": {},
   "outputs": [
    {
     "data": {
      "text/plain": [
       "945"
      ]
     },
     "execution_count": 171,
     "metadata": {},
     "output_type": "execute_result"
    }
   ],
   "source": [
    "soup = BeautifulSoup(driver.page_source, 'html.parser')\n",
    "\n",
    "len(soup.find_all('ul', class_ = '_row list_data'))"
   ]
  },
  {
   "cell_type": "code",
   "execution_count": 172,
   "id": "c2d838bf",
   "metadata": {
    "scrolled": true
   },
   "outputs": [],
   "source": [
    "data = []\n",
    "\n",
    "soup = BeautifulSoup(driver.page_source, 'html.parser')\n",
    "\n",
    "for i in soup.find_all('ul', class_ = '_row list_data'):\n",
    "        \n",
    "    link = i.find('a').get('href')\n",
    "    title = i.find('a').text.strip()\n",
    "\n",
    "    try:\n",
    "        artist_name = '|'.join([art.text for art in i.find('div', class_ = '_art t_over').find_all('a',class_ = '_link')])\n",
    "    except:\n",
    "        artist_name = np.nan\n",
    "    \n",
    "    try:    \n",
    "        artist_id = '|'.join([art.get('href') for art in i.find('div', class_ = '_art t_over').find_all('a',class_ = '_link')])\n",
    "    except:\n",
    "        artist_id = np.nan\n",
    "        \n",
    "    duration = i.find('li', class_ = '_dur sm-hide').text\n",
    "\n",
    "    data.append([title,artist_name, artist_id, duration, 'https://gaana.com/'+link])"
   ]
  },
  {
   "cell_type": "code",
   "execution_count": 173,
   "id": "97985ddb",
   "metadata": {},
   "outputs": [
    {
     "data": {
      "text/plain": [
       "['Nida Bhara Rati',\n",
       " 'Nirmal Mishra',\n",
       " '/artist/nirmal-mishra',\n",
       " '03:04',\n",
       " 'https://gaana.com//song/nida-bhara-rati']"
      ]
     },
     "execution_count": 173,
     "metadata": {},
     "output_type": "execute_result"
    }
   ],
   "source": [
    "data[0]"
   ]
  },
  {
   "cell_type": "code",
   "execution_count": 174,
   "id": "ef8a7164",
   "metadata": {},
   "outputs": [
    {
     "data": {
      "text/plain": [
       "name         0\n",
       "singer       5\n",
       "singer_id    5\n",
       "duration     0\n",
       "link         0\n",
       "dtype: int64"
      ]
     },
     "execution_count": 174,
     "metadata": {},
     "output_type": "execute_result"
    }
   ],
   "source": [
    "df = pd.DataFrame(data, columns = ['name','singer','singer_id','duration','link'])\n",
    "\n",
    "df.isnull().sum()"
   ]
  },
  {
   "cell_type": "code",
   "execution_count": 175,
   "id": "24810d15",
   "metadata": {},
   "outputs": [
    {
     "data": {
      "text/plain": [
       "name         0\n",
       "singer       0\n",
       "singer_id    0\n",
       "duration     0\n",
       "link         0\n",
       "dtype: int64"
      ]
     },
     "execution_count": 175,
     "metadata": {},
     "output_type": "execute_result"
    }
   ],
   "source": [
    "df = df.dropna()\n",
    "\n",
    "df.isnull().sum()"
   ]
  },
  {
   "cell_type": "code",
   "execution_count": 176,
   "id": "909364ed",
   "metadata": {},
   "outputs": [],
   "source": [
    "df.to_csv('Odia.csv', index = False)"
   ]
  },
  {
   "cell_type": "code",
   "execution_count": null,
   "id": "c6ab7ad7",
   "metadata": {},
   "outputs": [],
   "source": []
  }
 ],
 "metadata": {
  "kernelspec": {
   "display_name": "Python 3 (ipykernel)",
   "language": "python",
   "name": "python3"
  },
  "language_info": {
   "codemirror_mode": {
    "name": "ipython",
    "version": 3
   },
   "file_extension": ".py",
   "mimetype": "text/x-python",
   "name": "python",
   "nbconvert_exporter": "python",
   "pygments_lexer": "ipython3",
   "version": "3.9.12"
  }
 },
 "nbformat": 4,
 "nbformat_minor": 5
}
