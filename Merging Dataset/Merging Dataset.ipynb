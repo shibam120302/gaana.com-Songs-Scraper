{
 "cells": [
  {
   "cell_type": "code",
   "execution_count": 39,
   "id": "39dc1594",
   "metadata": {},
   "outputs": [],
   "source": [
    "import os\n",
    "import time\n",
    "import numpy as np\n",
    "import pandas as pd\n",
    "from tqdm import tqdm"
   ]
  },
  {
   "cell_type": "markdown",
   "id": "5cdadcb6",
   "metadata": {},
   "source": [
    "### 1. Combining the Datasets"
   ]
  },
  {
   "cell_type": "code",
   "execution_count": 51,
   "id": "84efd437",
   "metadata": {},
   "outputs": [],
   "source": [
    "df = pd.DataFrame()\n",
    "\n",
    "for dataset in os.listdir('Datasets/'):\n",
    "    \n",
    "    dataset_path = 'Datasets/' + dataset\n",
    "    \n",
    "    language = dataset.split('.')[0]\n",
    "    \n",
    "    df_ = pd.read_csv(dataset_path)\n",
    "    \n",
    "    df_['link'] = [i[23:] for i in df_['link']]\n",
    "    df_['language'] = language\n",
    "    \n",
    "    df = pd.concat((df_,df))"
   ]
  },
  {
   "cell_type": "markdown",
   "id": "0721aa8d",
   "metadata": {},
   "source": [
    "### 2. Export the Dataset"
   ]
  },
  {
   "cell_type": "code",
   "execution_count": 52,
   "id": "bc054a57",
   "metadata": {},
   "outputs": [],
   "source": [
    "df.to_csv('songs.csv', index = False)"
   ]
  },
  {
   "cell_type": "code",
   "execution_count": 47,
   "id": "85503d3d",
   "metadata": {},
   "outputs": [
    {
     "data": {
      "text/plain": [
       "'Urdu'"
      ]
     },
     "execution_count": 47,
     "metadata": {},
     "output_type": "execute_result"
    }
   ],
   "source": [
    "dataset.split('.')[0]"
   ]
  },
  {
   "cell_type": "code",
   "execution_count": 49,
   "id": "8d5a4efd",
   "metadata": {},
   "outputs": [],
   "source": [
    "df_['language'] = dataset.split('.')[0]"
   ]
  },
  {
   "cell_type": "code",
   "execution_count": 50,
   "id": "d89d79a9",
   "metadata": {},
   "outputs": [
    {
     "data": {
      "text/html": [
       "<div>\n",
       "<style scoped>\n",
       "    .dataframe tbody tr th:only-of-type {\n",
       "        vertical-align: middle;\n",
       "    }\n",
       "\n",
       "    .dataframe tbody tr th {\n",
       "        vertical-align: top;\n",
       "    }\n",
       "\n",
       "    .dataframe thead th {\n",
       "        text-align: right;\n",
       "    }\n",
       "</style>\n",
       "<table border=\"1\" class=\"dataframe\">\n",
       "  <thead>\n",
       "    <tr style=\"text-align: right;\">\n",
       "      <th></th>\n",
       "      <th>name</th>\n",
       "      <th>singer</th>\n",
       "      <th>singer_id</th>\n",
       "      <th>duration</th>\n",
       "      <th>link</th>\n",
       "      <th>language</th>\n",
       "    </tr>\n",
       "  </thead>\n",
       "  <tbody>\n",
       "    <tr>\n",
       "      <th>0</th>\n",
       "      <td>Dil - E - Nadan Tujhe</td>\n",
       "      <td>Chitra Singh|Jagjit Singh</td>\n",
       "      <td>/artist/chitra-singh|/artist/jagjeet-singh-1</td>\n",
       "      <td>05:00</td>\n",
       "      <td>/dil-e-nadan-tujhe-3</td>\n",
       "      <td>Urdu</td>\n",
       "    </tr>\n",
       "    <tr>\n",
       "      <th>1</th>\n",
       "      <td>Agar Hum Kahen Aur Woh Muskara De</td>\n",
       "      <td>Chitra Singh|Jagjit Singh</td>\n",
       "      <td>/artist/chitra-singh|/artist/jagjeet-singh-1</td>\n",
       "      <td>06:26</td>\n",
       "      <td>/agar-hum-kahen-aur-woh-muskura-den</td>\n",
       "      <td>Urdu</td>\n",
       "    </tr>\n",
       "    <tr>\n",
       "      <th>2</th>\n",
       "      <td>Unke Dekhe Se</td>\n",
       "      <td>Jagjit Singh</td>\n",
       "      <td>/artist/jagjeet-singh-1</td>\n",
       "      <td>03:41</td>\n",
       "      <td>/unke-dekhe-se</td>\n",
       "      <td>Urdu</td>\n",
       "    </tr>\n",
       "    <tr>\n",
       "      <th>3</th>\n",
       "      <td>Yeh Na Thi Hamari Qismat - Chitra Singh</td>\n",
       "      <td>Chitra Singh</td>\n",
       "      <td>/artist/chitra-singh</td>\n",
       "      <td>04:26</td>\n",
       "      <td>/yeh-na-thi-hamari-qismat-2</td>\n",
       "      <td>Urdu</td>\n",
       "    </tr>\n",
       "    <tr>\n",
       "      <th>4</th>\n",
       "      <td>Hazaron Khwahishen Aisi</td>\n",
       "      <td>Jagjit Singh</td>\n",
       "      <td>/artist/jagjeet-singh-1</td>\n",
       "      <td>05:39</td>\n",
       "      <td>/hazaron-khwahishen-aisi-1</td>\n",
       "      <td>Urdu</td>\n",
       "    </tr>\n",
       "    <tr>\n",
       "      <th>...</th>\n",
       "      <td>...</td>\n",
       "      <td>...</td>\n",
       "      <td>...</td>\n",
       "      <td>...</td>\n",
       "      <td>...</td>\n",
       "      <td>...</td>\n",
       "    </tr>\n",
       "    <tr>\n",
       "      <th>3111</th>\n",
       "      <td>Salam</td>\n",
       "      <td>Farhat Shuja</td>\n",
       "      <td>/artist/farhat-shuja</td>\n",
       "      <td>10:04</td>\n",
       "      <td>/salam-44</td>\n",
       "      <td>Urdu</td>\n",
       "    </tr>\n",
       "    <tr>\n",
       "      <th>3112</th>\n",
       "      <td>Thumri Tilang - Sajia Akeli Dukh De</td>\n",
       "      <td>Badar Uz Zaman|Qamar Uz Zaman</td>\n",
       "      <td>/artist/badar-uz-zaman-1|/artist/qamar-uz-zaman-1</td>\n",
       "      <td>06:11</td>\n",
       "      <td>/thumri-tilang-sajia-akeli-dukh-de</td>\n",
       "      <td>Urdu</td>\n",
       "    </tr>\n",
       "    <tr>\n",
       "      <th>3113</th>\n",
       "      <td>Sanwar Sanwar Kar</td>\n",
       "      <td>Mumtaz Shirazi</td>\n",
       "      <td>/artist/mumtaz-shirazi</td>\n",
       "      <td>04:45</td>\n",
       "      <td>/sanwar-sanwar-kar</td>\n",
       "      <td>Urdu</td>\n",
       "    </tr>\n",
       "    <tr>\n",
       "      <th>3114</th>\n",
       "      <td>Jo Teri Sana Mein</td>\n",
       "      <td>Muzaffar Warisi</td>\n",
       "      <td>/artist/muzaffar-warisi</td>\n",
       "      <td>06:16</td>\n",
       "      <td>/jo-teri-sana-mein</td>\n",
       "      <td>Urdu</td>\n",
       "    </tr>\n",
       "    <tr>\n",
       "      <th>3115</th>\n",
       "      <td>Lucky Seven &amp; Lucky Thirteen</td>\n",
       "      <td>Karim Shahab ud Din</td>\n",
       "      <td>/artist/karim-shahab-ud-din</td>\n",
       "      <td>03:04</td>\n",
       "      <td>/lucky-seven-lucky-thirteen</td>\n",
       "      <td>Urdu</td>\n",
       "    </tr>\n",
       "  </tbody>\n",
       "</table>\n",
       "<p>3116 rows × 6 columns</p>\n",
       "</div>"
      ],
      "text/plain": [
       "                                         name                         singer  \\\n",
       "0                       Dil - E - Nadan Tujhe      Chitra Singh|Jagjit Singh   \n",
       "1           Agar Hum Kahen Aur Woh Muskara De      Chitra Singh|Jagjit Singh   \n",
       "2                               Unke Dekhe Se                   Jagjit Singh   \n",
       "3     Yeh Na Thi Hamari Qismat - Chitra Singh                   Chitra Singh   \n",
       "4                     Hazaron Khwahishen Aisi                   Jagjit Singh   \n",
       "...                                       ...                            ...   \n",
       "3111                                    Salam                   Farhat Shuja   \n",
       "3112      Thumri Tilang - Sajia Akeli Dukh De  Badar Uz Zaman|Qamar Uz Zaman   \n",
       "3113                        Sanwar Sanwar Kar                 Mumtaz Shirazi   \n",
       "3114                        Jo Teri Sana Mein                Muzaffar Warisi   \n",
       "3115             Lucky Seven & Lucky Thirteen            Karim Shahab ud Din   \n",
       "\n",
       "                                              singer_id duration  \\\n",
       "0          /artist/chitra-singh|/artist/jagjeet-singh-1    05:00   \n",
       "1          /artist/chitra-singh|/artist/jagjeet-singh-1    06:26   \n",
       "2                               /artist/jagjeet-singh-1    03:41   \n",
       "3                                  /artist/chitra-singh    04:26   \n",
       "4                               /artist/jagjeet-singh-1    05:39   \n",
       "...                                                 ...      ...   \n",
       "3111                               /artist/farhat-shuja    10:04   \n",
       "3112  /artist/badar-uz-zaman-1|/artist/qamar-uz-zaman-1    06:11   \n",
       "3113                             /artist/mumtaz-shirazi    04:45   \n",
       "3114                            /artist/muzaffar-warisi    06:16   \n",
       "3115                        /artist/karim-shahab-ud-din    03:04   \n",
       "\n",
       "                                     link language  \n",
       "0                    /dil-e-nadan-tujhe-3     Urdu  \n",
       "1     /agar-hum-kahen-aur-woh-muskura-den     Urdu  \n",
       "2                          /unke-dekhe-se     Urdu  \n",
       "3             /yeh-na-thi-hamari-qismat-2     Urdu  \n",
       "4              /hazaron-khwahishen-aisi-1     Urdu  \n",
       "...                                   ...      ...  \n",
       "3111                            /salam-44     Urdu  \n",
       "3112   /thumri-tilang-sajia-akeli-dukh-de     Urdu  \n",
       "3113                   /sanwar-sanwar-kar     Urdu  \n",
       "3114                   /jo-teri-sana-mein     Urdu  \n",
       "3115          /lucky-seven-lucky-thirteen     Urdu  \n",
       "\n",
       "[3116 rows x 6 columns]"
      ]
     },
     "execution_count": 50,
     "metadata": {},
     "output_type": "execute_result"
    }
   ],
   "source": [
    "df_"
   ]
  },
  {
   "cell_type": "code",
   "execution_count": null,
   "id": "1c0dc727",
   "metadata": {},
   "outputs": [],
   "source": []
  }
 ],
 "metadata": {
  "kernelspec": {
   "display_name": "Python 3 (ipykernel)",
   "language": "python",
   "name": "python3"
  },
  "language_info": {
   "codemirror_mode": {
    "name": "ipython",
    "version": 3
   },
   "file_extension": ".py",
   "mimetype": "text/x-python",
   "name": "python",
   "nbconvert_exporter": "python",
   "pygments_lexer": "ipython3",
   "version": "3.9.7"
  }
 },
 "nbformat": 4,
 "nbformat_minor": 5
}
